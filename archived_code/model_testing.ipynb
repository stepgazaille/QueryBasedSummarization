{
 "cells": [
  {
   "cell_type": "markdown",
   "metadata": {},
   "source": [
    "# Testing the model\n",
    "\n",
    "In this ipynb, we load the trained models and use it to visualize how it well it would work : given a query and all the paragraphs of a wikipedia page, what would be the answer our model would provide ?\n",
    "\n",
    "Code adapted from :\n",
    "https://github.com/jonbruner/tensorflow-basics/blob/master/save-load/load.ipynb"
   ]
  },
  {
   "cell_type": "code",
   "execution_count": 1,
   "metadata": {
    "collapsed": true
   },
   "outputs": [],
   "source": [
    "import pandas as pd\n",
    "import numpy as np\n",
    "import tensorflow as tf"
   ]
  },
  {
   "cell_type": "code",
   "execution_count": 2,
   "metadata": {},
   "outputs": [],
   "source": [
    "# load data\n",
    "#q = np.array(np.load(\"../data/old_data/short_fold0_600K_query_text.csv\").tolist())\n",
    "#p = np.array(np.load(\"../data/old_data/short_fold0_600K_paragraph_text.csv\").tolist())\n",
    "#y = np.array(np.load(\"../data/short_fold0_600K_labels.csv\").tolist())"
   ]
  },
  {
   "cell_type": "code",
   "execution_count": 4,
   "metadata": {},
   "outputs": [],
   "source": [
    "df_test = pd.read_csv('../data/short_fold0_600K_test_df.csv')"
   ]
  },
  {
   "cell_type": "code",
   "execution_count": 6,
   "metadata": {},
   "outputs": [
    {
     "data": {
      "text/html": [
       "<div>\n",
       "<table border=\"1\" class=\"dataframe\">\n",
       "  <thead>\n",
       "    <tr style=\"text-align: right;\">\n",
       "      <th></th>\n",
       "      <th>Unnamed: 0</th>\n",
       "      <th>pagename</th>\n",
       "      <th>section</th>\n",
       "      <th>para_id</th>\n",
       "      <th>para_text</th>\n",
       "      <th>rel_label</th>\n",
       "      <th>query</th>\n",
       "      <th>pagename_index</th>\n",
       "    </tr>\n",
       "  </thead>\n",
       "  <tbody>\n",
       "    <tr>\n",
       "      <th>0</th>\n",
       "      <td>703</td>\n",
       "      <td>14th united states congress</td>\n",
       "      <td>members</td>\n",
       "      <td>62ee9c5afa296ce5602471349331fa53b6b32fc5</td>\n",
       "      <td>All representatives were elected statewide on ...</td>\n",
       "      <td>1</td>\n",
       "      <td>members of 14th united states congress</td>\n",
       "      <td>3</td>\n",
       "    </tr>\n",
       "    <tr>\n",
       "      <th>1</th>\n",
       "      <td>974</td>\n",
       "      <td>63rd united states congress</td>\n",
       "      <td>members</td>\n",
       "      <td>ef4dcd79d387e7be42f5f3a484f12fdc123801cf</td>\n",
       "      <td>(3-2 Republican)</td>\n",
       "      <td>1</td>\n",
       "      <td>members of 63rd united states congress</td>\n",
       "      <td>9</td>\n",
       "    </tr>\n",
       "    <tr>\n",
       "      <th>2</th>\n",
       "      <td>1240</td>\n",
       "      <td>29th united states congress</td>\n",
       "      <td>party summary</td>\n",
       "      <td>0c7fdc96bdf4d4186d2ff0848388e58b3227672f</td>\n",
       "      <td>(1 Whig)</td>\n",
       "      <td>0</td>\n",
       "      <td>party summary of 29th united states congress</td>\n",
       "      <td>5</td>\n",
       "    </tr>\n",
       "    <tr>\n",
       "      <th>3</th>\n",
       "      <td>1391</td>\n",
       "      <td>29th united states congress</td>\n",
       "      <td>committees</td>\n",
       "      <td>82a0a24c1c3ec62209ced189beb586ed46f6647c</td>\n",
       "      <td>(7 Democrats)</td>\n",
       "      <td>0</td>\n",
       "      <td>committees of 29th united states congress</td>\n",
       "      <td>5</td>\n",
       "    </tr>\n",
       "    <tr>\n",
       "      <th>4</th>\n",
       "      <td>2509</td>\n",
       "      <td>63rd united states congress</td>\n",
       "      <td>committees</td>\n",
       "      <td>85c6063a8f7dc43f15edff6f1c194a15229fafa4</td>\n",
       "      <td>(6-2 Democratic)</td>\n",
       "      <td>0</td>\n",
       "      <td>committees of 63rd united states congress</td>\n",
       "      <td>9</td>\n",
       "    </tr>\n",
       "  </tbody>\n",
       "</table>\n",
       "</div>"
      ],
      "text/plain": [
       "   Unnamed: 0                     pagename        section  \\\n",
       "0         703  14th united states congress        members   \n",
       "1         974  63rd united states congress        members   \n",
       "2        1240  29th united states congress  party summary   \n",
       "3        1391  29th united states congress     committees   \n",
       "4        2509  63rd united states congress     committees   \n",
       "\n",
       "                                    para_id  \\\n",
       "0  62ee9c5afa296ce5602471349331fa53b6b32fc5   \n",
       "1  ef4dcd79d387e7be42f5f3a484f12fdc123801cf   \n",
       "2  0c7fdc96bdf4d4186d2ff0848388e58b3227672f   \n",
       "3  82a0a24c1c3ec62209ced189beb586ed46f6647c   \n",
       "4  85c6063a8f7dc43f15edff6f1c194a15229fafa4   \n",
       "\n",
       "                                           para_text  rel_label  \\\n",
       "0  All representatives were elected statewide on ...          1   \n",
       "1                                   (3-2 Republican)          1   \n",
       "2                                           (1 Whig)          0   \n",
       "3                                      (7 Democrats)          0   \n",
       "4                                   (6-2 Democratic)          0   \n",
       "\n",
       "                                          query  pagename_index  \n",
       "0        members of 14th united states congress               3  \n",
       "1        members of 63rd united states congress               9  \n",
       "2  party summary of 29th united states congress               5  \n",
       "3     committees of 29th united states congress               5  \n",
       "4     committees of 63rd united states congress               9  "
      ]
     },
     "execution_count": 6,
     "metadata": {},
     "output_type": "execute_result"
    }
   ],
   "source": [
    "df_test.head()"
   ]
  },
  {
   "cell_type": "code",
   "execution_count": 8,
   "metadata": {},
   "outputs": [],
   "source": [
    "# embed data in order to match as it was passed to model\n",
    "\n",
    "# exctract word2vec vectors\n",
    "import spacy\n",
    "nlp = spacy.load('en')\n",
    "\n",
    "def embed(column_name):\n",
    "    vecs = []\n",
    "    for qu in list(df_test[column_name]):\n",
    "        doc = nlp(qu) \n",
    "        mean_vec = np.zeros([len(doc), 300])\n",
    "        for word in doc:   \n",
    "            vec = word.vector\n",
    "            # only if using tf-idf\n",
    "            '''\n",
    "            # fetch df score\n",
    "            try:\n",
    "                idf = word2tfidf[str(word)]\n",
    "            except:\n",
    "                #print word\n",
    "                idf = 0\n",
    "            '''\n",
    "            # compute final vec\n",
    "            mean_vec += vec # * idf\n",
    "        mean_vec = mean_vec.mean(axis=0)\n",
    "        vecs.append(mean_vec)\n",
    "    return vecs\n",
    "    \n",
    "query_vecs = embed('query')\n",
    "paragraph_vecs = embed('para_text')\n",
    "\n",
    "df_test['query_CBOW'] = list(query_vecs)\n",
    "df_test['paragraph_CBOW'] = list(paragraph_vecs)"
   ]
  },
  {
   "cell_type": "code",
   "execution_count": 9,
   "metadata": {},
   "outputs": [],
   "source": [
    "# Load desired model (full model = graph (.meta file) + weights) \n",
    "model_path = '../runs/1491436470/checkpoints/'\n",
    "sess = tf.InteractiveSession()\n",
    "new_saver = tf.train.import_meta_graph(model_path+'model-38300.meta') # graph\n",
    "new_saver.restore(sess, model_path+'model-38300') # weigths"
   ]
  },
  {
   "cell_type": "code",
   "execution_count": 10,
   "metadata": {},
   "outputs": [],
   "source": [
    "# Visualize the graph if needed (useful to get the tensor names required for next cell)\n",
    "#tf.get_default_graph().as_graph_def()"
   ]
  },
  {
   "cell_type": "code",
   "execution_count": 17,
   "metadata": {},
   "outputs": [],
   "source": [
    "# Set the variables we are going to need to give to the model to interact with it \n",
    "# Make sure the names match with the node names in the saved tf graph (possible to visualize it in previous cell)\n",
    "query = sess.graph.get_tensor_by_name(\"input_q:0\")\n",
    "paragraph = sess.graph.get_tensor_by_name(\"input_p:0\")\n",
    "#scores = sess.graph.get_tensor_by_name(\"output/scores:0\")\n",
    "predictions = sess.graph.get_tensor_by_name(\"output/predictions:0\")\n",
    "dropout_keep_prob = sess.graph.get_tensor_by_name(\"dropout_keep_prob:0\")"
   ]
  },
  {
   "cell_type": "code",
   "execution_count": 18,
   "metadata": {},
   "outputs": [],
   "source": [
    "# Reshape to match required shapes\n",
    "p_test = np.reshape(df_test['paragraph_CBOW'][0], (1,300))\n",
    "q_test = np.reshape(df_test['query_CBOW'][0], (1,300))"
   ]
  },
  {
   "cell_type": "code",
   "execution_count": null,
   "metadata": {
    "collapsed": true
   },
   "outputs": [],
   "source": [
    "# TO DO\n",
    "\n",
    "# SAVE DICTIONNARY AND EMBEDDING MATRICE WHEN RUNNING MODEL?\n",
    "\n",
    "# OR IN THE MODEL, ONCE EVERY X EPOCHS, PASS ALL DATA THAT HAS ID Y AND TRY TO RECONSTRUCT WIKIPEDIA ARTICLE"
   ]
  },
  {
   "cell_type": "code",
   "execution_count": 19,
   "metadata": {},
   "outputs": [
    {
     "ename": "ValueError",
     "evalue": "Cannot feed value of shape (1, 300) for Tensor 'input_p:0', which has shape '(?, 1000)'",
     "output_type": "error",
     "traceback": [
      "\u001b[0;31m---------------------------------------------------------------------------\u001b[0m",
      "\u001b[0;31mValueError\u001b[0m                                Traceback (most recent call last)",
      "\u001b[0;32m<ipython-input-19-12c76c0c9664>\u001b[0m in \u001b[0;36m<module>\u001b[0;34m()\u001b[0m\n\u001b[1;32m      1\u001b[0m \u001b[0;31m# Make prediction\u001b[0m\u001b[0;34m\u001b[0m\u001b[0;34m\u001b[0m\u001b[0m\n\u001b[1;32m      2\u001b[0m \u001b[0;31m#result = sess.run(scores, feed_dict={paragraph:p_test, query:q_test, dropout_keep_prob:1})\u001b[0m\u001b[0;34m\u001b[0m\u001b[0;34m\u001b[0m\u001b[0m\n\u001b[0;32m----> 3\u001b[0;31m \u001b[0mresult\u001b[0m \u001b[0;34m=\u001b[0m \u001b[0msess\u001b[0m\u001b[0;34m.\u001b[0m\u001b[0mrun\u001b[0m\u001b[0;34m(\u001b[0m\u001b[0mpredictions\u001b[0m\u001b[0;34m,\u001b[0m \u001b[0mfeed_dict\u001b[0m\u001b[0;34m=\u001b[0m\u001b[0;34m{\u001b[0m\u001b[0mparagraph\u001b[0m\u001b[0;34m:\u001b[0m\u001b[0mp_test\u001b[0m\u001b[0;34m,\u001b[0m \u001b[0mquery\u001b[0m\u001b[0;34m:\u001b[0m\u001b[0mq_test\u001b[0m\u001b[0;34m,\u001b[0m \u001b[0mdropout_keep_prob\u001b[0m\u001b[0;34m:\u001b[0m\u001b[0;36m1\u001b[0m\u001b[0;34m}\u001b[0m\u001b[0;34m)\u001b[0m\u001b[0;34m\u001b[0m\u001b[0m\n\u001b[0m\u001b[1;32m      4\u001b[0m \u001b[0;31m#print('scores :')\u001b[0m\u001b[0;34m\u001b[0m\u001b[0;34m\u001b[0m\u001b[0m\n\u001b[1;32m      5\u001b[0m \u001b[0;31m#print(result)\u001b[0m\u001b[0;34m\u001b[0m\u001b[0;34m\u001b[0m\u001b[0m\n",
      "\u001b[0;32m/Users/vincentchabot/anaconda/lib/python3.6/site-packages/tensorflow/python/client/session.py\u001b[0m in \u001b[0;36mrun\u001b[0;34m(self, fetches, feed_dict, options, run_metadata)\u001b[0m\n\u001b[1;32m    765\u001b[0m     \u001b[0;32mtry\u001b[0m\u001b[0;34m:\u001b[0m\u001b[0;34m\u001b[0m\u001b[0m\n\u001b[1;32m    766\u001b[0m       result = self._run(None, fetches, feed_dict, options_ptr,\n\u001b[0;32m--> 767\u001b[0;31m                          run_metadata_ptr)\n\u001b[0m\u001b[1;32m    768\u001b[0m       \u001b[0;32mif\u001b[0m \u001b[0mrun_metadata\u001b[0m\u001b[0;34m:\u001b[0m\u001b[0;34m\u001b[0m\u001b[0m\n\u001b[1;32m    769\u001b[0m         \u001b[0mproto_data\u001b[0m \u001b[0;34m=\u001b[0m \u001b[0mtf_session\u001b[0m\u001b[0;34m.\u001b[0m\u001b[0mTF_GetBuffer\u001b[0m\u001b[0;34m(\u001b[0m\u001b[0mrun_metadata_ptr\u001b[0m\u001b[0;34m)\u001b[0m\u001b[0;34m\u001b[0m\u001b[0m\n",
      "\u001b[0;32m/Users/vincentchabot/anaconda/lib/python3.6/site-packages/tensorflow/python/client/session.py\u001b[0m in \u001b[0;36m_run\u001b[0;34m(self, handle, fetches, feed_dict, options, run_metadata)\u001b[0m\n\u001b[1;32m    942\u001b[0m                 \u001b[0;34m'Cannot feed value of shape %r for Tensor %r, '\u001b[0m\u001b[0;34m\u001b[0m\u001b[0m\n\u001b[1;32m    943\u001b[0m                 \u001b[0;34m'which has shape %r'\u001b[0m\u001b[0;34m\u001b[0m\u001b[0m\n\u001b[0;32m--> 944\u001b[0;31m                 % (np_val.shape, subfeed_t.name, str(subfeed_t.get_shape())))\n\u001b[0m\u001b[1;32m    945\u001b[0m           \u001b[0;32mif\u001b[0m \u001b[0;32mnot\u001b[0m \u001b[0mself\u001b[0m\u001b[0;34m.\u001b[0m\u001b[0mgraph\u001b[0m\u001b[0;34m.\u001b[0m\u001b[0mis_feedable\u001b[0m\u001b[0;34m(\u001b[0m\u001b[0msubfeed_t\u001b[0m\u001b[0;34m)\u001b[0m\u001b[0;34m:\u001b[0m\u001b[0;34m\u001b[0m\u001b[0m\n\u001b[1;32m    946\u001b[0m             \u001b[0;32mraise\u001b[0m \u001b[0mValueError\u001b[0m\u001b[0;34m(\u001b[0m\u001b[0;34m'Tensor %s may not be fed.'\u001b[0m \u001b[0;34m%\u001b[0m \u001b[0msubfeed_t\u001b[0m\u001b[0;34m)\u001b[0m\u001b[0;34m\u001b[0m\u001b[0m\n",
      "\u001b[0;31mValueError\u001b[0m: Cannot feed value of shape (1, 300) for Tensor 'input_p:0', which has shape '(?, 1000)'"
     ]
    }
   ],
   "source": [
    "# Make prediction\n",
    "#result = sess.run(scores, feed_dict={paragraph:p_test, query:q_test, dropout_keep_prob:1})\n",
    "result = sess.run(predictions, feed_dict={paragraph:p_test, query:q_test, dropout_keep_prob:1})\n",
    "#print('scores :')\n",
    "#print(result)\n",
    "print('model prediction :')\n",
    "#print(sess.run(tf.argmax(result, 1))[0])\n",
    "print(sess.run(result))\n",
    "print('true prediction :')\n",
    "print(np.argmax(y[0]))"
   ]
  },
  {
   "cell_type": "code",
   "execution_count": null,
   "metadata": {
    "collapsed": true
   },
   "outputs": [],
   "source": []
  }
 ],
 "metadata": {
  "kernelspec": {
   "display_name": "Python 3",
   "language": "python",
   "name": "python3"
  },
  "language_info": {
   "codemirror_mode": {
    "name": "ipython",
    "version": 3
   },
   "file_extension": ".py",
   "mimetype": "text/x-python",
   "name": "python",
   "nbconvert_exporter": "python",
   "pygments_lexer": "ipython3",
   "version": "3.5.2"
  }
 },
 "nbformat": 4,
 "nbformat_minor": 2
}
