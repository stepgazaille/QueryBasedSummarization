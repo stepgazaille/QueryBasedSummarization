{
 "cells": [
  {
   "cell_type": "markdown",
   "metadata": {},
   "source": [
    "# Testing the model\n",
    "\n",
    "In this ipynb, we load the trained models and use it to visualize how it well it would work : given a query and all the paragraphs of a wikipedia page, what would be the answer our model would provide ?\n",
    "\n",
    "Code adapted from :\n",
    "https://github.com/jonbruner/tensorflow-basics/blob/master/save-load/load.ipynb"
   ]
  },
  {
   "cell_type": "code",
   "execution_count": 40,
   "metadata": {
    "collapsed": true
   },
   "outputs": [],
   "source": [
    "import pandas as pd\n",
    "import numpy as np\n",
    "import tensorflow as tf"
   ]
  },
  {
   "cell_type": "code",
   "execution_count": 41,
   "metadata": {
    "collapsed": false
   },
   "outputs": [],
   "source": [
    "# load data\n",
    "q = np.array(np.load(\"../data/old_data/short_fold0_600K_query_CBOW.csv\").tolist())\n",
    "p = np.array(np.load(\"../data/old_data/short_fold0_600K_paragraph_CBOW.csv\").tolist())\n",
    "y = np.array(np.load(\"../data/short_fold0_600K_labels.csv\").tolist())"
   ]
  },
  {
   "cell_type": "code",
   "execution_count": 42,
   "metadata": {
    "collapsed": true
   },
   "outputs": [],
   "source": [
    "# embed data in order to match as it was passed to model\n",
    "\n",
    "# No need if loading directly CBOW for the moment\n",
    "# TO DO : Update this part of code"
   ]
  },
  {
   "cell_type": "code",
   "execution_count": 43,
   "metadata": {
    "collapsed": false
   },
   "outputs": [],
   "source": [
    "# Load desired model (full model = graph (.meta file) + weights) \n",
    "model_path = '../runs/Baseline_bilinear/checkpoints/'\n",
    "sess = tf.InteractiveSession()\n",
    "new_saver = tf.train.import_meta_graph(model_path+'model-407400.meta') # graph\n",
    "new_saver.restore(sess, model_path+'model-407000') # weigths"
   ]
  },
  {
   "cell_type": "code",
   "execution_count": 58,
   "metadata": {
    "collapsed": false
   },
   "outputs": [],
   "source": [
    "# Visualize the graph if needed (useful to get the tensor names required for next cell)\n",
    "#tf.get_default_graph().as_graph_def()"
   ]
  },
  {
   "cell_type": "code",
   "execution_count": 62,
   "metadata": {
    "collapsed": false
   },
   "outputs": [],
   "source": [
    "# Set the variables we are going to need to give to the model to interact with it \n",
    "# Make sure the names match with the node names in the saved tf graph (possible to visualize it in previous cell)\n",
    "query = sess.graph.get_tensor_by_name(\"input_q:0\")\n",
    "paragraph = sess.graph.get_tensor_by_name(\"input_p:0\")\n",
    "scores = sess.graph.get_tensor_by_name(\"output/scores:0\")\n",
    "dropout_keep_prob = sess.graph.get_tensor_by_name(\"dropout_keep_prob:0\")"
   ]
  },
  {
   "cell_type": "code",
   "execution_count": 63,
   "metadata": {
    "collapsed": false
   },
   "outputs": [],
   "source": [
    "# Reshape to match required shapes\n",
    "p_test = np.reshape(p[0], (1,300))\n",
    "q_test = np.reshape(q[0], (1,300))"
   ]
  },
  {
   "cell_type": "code",
   "execution_count": 72,
   "metadata": {
    "collapsed": false
   },
   "outputs": [
    {
     "name": "stdout",
     "output_type": "stream",
     "text": [
      "scores :\n",
      "[[ 94.03639221 -59.92926025]]\n",
      "model prediction :\n",
      "0\n",
      "true prediction :\n",
      "0\n"
     ]
    }
   ],
   "source": [
    "# Make prediction\n",
    "result = sess.run(scores, feed_dict={paragraph:p_test, query:q_test, dropout_keep_prob:1})\n",
    "print('scores :')\n",
    "print(result)\n",
    "print('model prediction :')\n",
    "print(sess.run(tf.argmax(result, 1))[0])\n",
    "print('true prediction :')\n",
    "print(np.argmax(y[0]))"
   ]
  },
  {
   "cell_type": "code",
   "execution_count": null,
   "metadata": {
    "collapsed": true
   },
   "outputs": [],
   "source": []
  }
 ],
 "metadata": {
  "kernelspec": {
   "display_name": "Python 3",
   "language": "python",
   "name": "python3"
  },
  "language_info": {
   "codemirror_mode": {
    "name": "ipython",
    "version": 3
   },
   "file_extension": ".py",
   "mimetype": "text/x-python",
   "name": "python",
   "nbconvert_exporter": "python",
   "pygments_lexer": "ipython3",
   "version": "3.6.0"
  }
 },
 "nbformat": 4,
 "nbformat_minor": 2
}
