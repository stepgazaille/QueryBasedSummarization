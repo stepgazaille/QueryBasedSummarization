{
 "cells": [
  {
   "cell_type": "markdown",
   "metadata": {},
   "source": [
    "# Building the data set\n",
    "\n",
    "In this notebook, we load data with only good pairs. First, we create the query and paragraphs embeddings using CBOW (possibly with tf-idf). \\\\\n",
    "\n",
    "Then, we only keep 200.000 lines as true pairs, and keep 400.000 additional paragraphs to wrongly associate them with the queries contained in the 200.000 previous lines to create wrong pairs."
   ]
  },
  {
   "cell_type": "code",
   "execution_count": 179,
   "metadata": {
    "collapsed": false
   },
   "outputs": [],
   "source": [
    "import sys\n",
    "import os \n",
    "import pandas as pd\n",
    "import numpy as np\n",
    "\n",
    "# load data\n",
    "#df = pd.read_csv(\"../data/para_csv.csv\")\n",
    "df = pd.read_csv(\"../data/para_csv_f1.csv\")"
   ]
  },
  {
   "cell_type": "code",
   "execution_count": 180,
   "metadata": {
    "collapsed": false
   },
   "outputs": [
    {
     "data": {
      "text/plain": [
       "(709421, 5)"
      ]
     },
     "execution_count": 180,
     "metadata": {},
     "output_type": "execute_result"
    }
   ],
   "source": [
    "df.shape"
   ]
  },
  {
   "cell_type": "code",
   "execution_count": 181,
   "metadata": {
    "collapsed": false
   },
   "outputs": [
    {
     "data": {
      "text/html": [
       "<div>\n",
       "<table border=\"1\" class=\"dataframe\">\n",
       "  <thead>\n",
       "    <tr style=\"text-align: right;\">\n",
       "      <th></th>\n",
       "      <th>pagename</th>\n",
       "      <th>section</th>\n",
       "      <th>para_id</th>\n",
       "      <th>para_text</th>\n",
       "      <th>rel_label</th>\n",
       "    </tr>\n",
       "  </thead>\n",
       "  <tbody>\n",
       "    <tr>\n",
       "      <th>0</th>\n",
       "      <td>0114</td>\n",
       "      <td>coverage</td>\n",
       "      <td>5c4d8a5fb15fa87ac096174957b3621b67d6a207</td>\n",
       "      <td>The 0114 dialing code includes the whole of  S...</td>\n",
       "      <td>1</td>\n",
       "    </tr>\n",
       "    <tr>\n",
       "      <th>1</th>\n",
       "      <td>0114</td>\n",
       "      <td>history</td>\n",
       "      <td>32c808b9a9d5407d31851cad1125f3e5e4af7dda</td>\n",
       "      <td>Switching to 6-digit numbers produced 90 000 a...</td>\n",
       "      <td>1</td>\n",
       "    </tr>\n",
       "    <tr>\n",
       "      <th>2</th>\n",
       "      <td>0114</td>\n",
       "      <td>history</td>\n",
       "      <td>4c5c5db4621532149aaf828fca282bcd5a7e757a</td>\n",
       "      <td>Before 1965  Sheffield had 5-digit telephone n...</td>\n",
       "      <td>1</td>\n",
       "    </tr>\n",
       "    <tr>\n",
       "      <th>3</th>\n",
       "      <td>0114</td>\n",
       "      <td>history</td>\n",
       "      <td>50b5cb599e17e542fa63c14324d123bffc41cec0</td>\n",
       "      <td>Transitioning to 7-digit numbers in 1995 invol...</td>\n",
       "      <td>1</td>\n",
       "    </tr>\n",
       "    <tr>\n",
       "      <th>4</th>\n",
       "      <td>0114</td>\n",
       "      <td>history</td>\n",
       "      <td>f2523d06b2083c7b4fc048e012460db3d2ac069d</td>\n",
       "      <td>Until the 1980s  Stocksbridge  Oughtibridge  a...</td>\n",
       "      <td>1</td>\n",
       "    </tr>\n",
       "  </tbody>\n",
       "</table>\n",
       "</div>"
      ],
      "text/plain": [
       "  pagename   section                                   para_id  \\\n",
       "0     0114  coverage  5c4d8a5fb15fa87ac096174957b3621b67d6a207   \n",
       "1     0114   history  32c808b9a9d5407d31851cad1125f3e5e4af7dda   \n",
       "2     0114   history  4c5c5db4621532149aaf828fca282bcd5a7e757a   \n",
       "3     0114   history  50b5cb599e17e542fa63c14324d123bffc41cec0   \n",
       "4     0114   history  f2523d06b2083c7b4fc048e012460db3d2ac069d   \n",
       "\n",
       "                                           para_text  rel_label  \n",
       "0  The 0114 dialing code includes the whole of  S...          1  \n",
       "1  Switching to 6-digit numbers produced 90 000 a...          1  \n",
       "2  Before 1965  Sheffield had 5-digit telephone n...          1  \n",
       "3  Transitioning to 7-digit numbers in 1995 invol...          1  \n",
       "4  Until the 1980s  Stocksbridge  Oughtibridge  a...          1  "
      ]
     },
     "execution_count": 181,
     "metadata": {},
     "output_type": "execute_result"
    }
   ],
   "source": [
    "df.head()"
   ]
  },
  {
   "cell_type": "code",
   "execution_count": 182,
   "metadata": {
    "collapsed": false
   },
   "outputs": [],
   "source": [
    "# encode questions to unicode\n",
    "df['pagename'] = df['pagename'].apply(lambda x: str(x))\n",
    "df['section'] = df['section'].apply(lambda x: str(x))\n",
    "df['para_text'] = df['para_text'].apply(lambda x: str(x))"
   ]
  },
  {
   "cell_type": "code",
   "execution_count": 183,
   "metadata": {
    "collapsed": true
   },
   "outputs": [],
   "source": [
    "# adding a query column which is the concatenation of pagename + section\n",
    "df['query'] = df['section'] + ' of ' + df['pagename']"
   ]
  },
  {
   "cell_type": "code",
   "execution_count": 184,
   "metadata": {
    "collapsed": false
   },
   "outputs": [],
   "source": [
    "# creating an index such that all paragraphs / query associated with same pagename share the same/unique index\n",
    "ids = {}\n",
    "i = 0\n",
    "for pagename in df['pagename'].unique():\n",
    "    ids[pagename] = i\n",
    "    i+=1\n",
    "    \n",
    "df['pagename_index'] = df['pagename'].apply(lambda x: ids[x])"
   ]
  },
  {
   "cell_type": "markdown",
   "metadata": {},
   "source": [
    "## Embedding data"
   ]
  },
  {
   "cell_type": "code",
   "execution_count": null,
   "metadata": {
    "collapsed": true
   },
   "outputs": [],
   "source": [
    "# If we want to train our own w2v vectors, we can adapt the code below \n",
    "'''\n",
    "import gensim\n",
    "\n",
    "questions = list(df['question1']) + list(df['question2'])\n",
    "\n",
    "# tokenize\n",
    "c = 0\n",
    "for question in tqdm(questions):\n",
    "    questions[c] = list(gensim.utils.tokenize(question, deacc=True, lower=True))\n",
    "    c += 1\n",
    "\n",
    "# train model\n",
    "model = gensim.models.Word2Vec(questions, size=300, workers=16, iter=10, negative=20)\n",
    "\n",
    "# trim memory\n",
    "model.init_sims(replace=True)\n",
    "\n",
    "# creta a dict \n",
    "w2v = dict(zip(model.index2word, model.syn0))\n",
    "print \"Number of tokens in Word2Vec:\", len(w2v.keys())\n",
    "\n",
    "# save model\n",
    "model.save('data/3_word2vec.mdl')\n",
    "model.save_word2vec_format('data/3_word2vec.bin', binary=True)\n",
    "'''"
   ]
  },
  {
   "cell_type": "code",
   "execution_count": 19,
   "metadata": {
    "collapsed": false
   },
   "outputs": [
    {
     "data": {
      "text/plain": [
       "\"\\nfrom sklearn.feature_extraction.text import TfidfVectorizer\\nfrom sklearn.feature_extraction.text import CountVectorizer\\n# merge texts\\ntext = list(df['query']) + list(df['para_text'])\\n\\ntfidf = TfidfVectorizer(lowercase=False, ) # lowercase?\\ntfidf.fit_transform(text)\\n\\n# dict key:word and value:tf-idf score\\nword2tfidf = dict(zip(tfidf.get_feature_names(), tfidf.idf_))\\n\""
      ]
     },
     "execution_count": 19,
     "metadata": {},
     "output_type": "execute_result"
    }
   ],
   "source": [
    "# Run this code to use tf-idf weighted CBOW\n",
    "'''\n",
    "from sklearn.feature_extraction.text import TfidfVectorizer\n",
    "from sklearn.feature_extraction.text import CountVectorizer\n",
    "# merge texts\n",
    "text = list(df['query']) + list(df['para_text'])\n",
    "\n",
    "tfidf = TfidfVectorizer(lowercase=False, ) # lowercase?\n",
    "tfidf.fit_transform(text)\n",
    "\n",
    "# dict key:word and value:tf-idf score\n",
    "word2tfidf = dict(zip(tfidf.get_feature_names(), tfidf.idf_))\n",
    "'''"
   ]
  },
  {
   "cell_type": "code",
   "execution_count": 48,
   "metadata": {
    "collapsed": false
   },
   "outputs": [],
   "source": [
    "'''# exctract word2vec vectors\n",
    "import spacy\n",
    "nlp = spacy.load('en')\n",
    "\n",
    "def embed(column_name):\n",
    "    vecs = []\n",
    "    #for qu in tqdm(list(df[column_name])):\n",
    "    for qu in list(df[column_name]):\n",
    "        doc = nlp(qu) \n",
    "        mean_vec = np.zeros([len(doc), 300])\n",
    "        for word in doc:   \n",
    "            vec = word.vector\n",
    "            # only if using tf-idf\n",
    "            '''\n",
    "            # fetch df score\n",
    "            try:\n",
    "                idf = word2tfidf[str(word)]\n",
    "            except:\n",
    "                #print word\n",
    "                idf = 0\n",
    "            '''\n",
    "            # compute final vec\n",
    "            mean_vec += vec # * idf\n",
    "        mean_vec = mean_vec.mean(axis=0)\n",
    "        vecs.append(mean_vec)\n",
    "    return vecs\n",
    "    \n",
    "query_vecs = embed('query')\n",
    "paragraph_vecs = embed('para_text')\n",
    "\n",
    "df['query_CBOW'] = list(query_vecs)\n",
    "df['paragraph_CBOW'] = list(paragraph_vecs)'''"
   ]
  },
  {
   "cell_type": "code",
   "execution_count": 49,
   "metadata": {
    "collapsed": false
   },
   "outputs": [
    {
     "data": {
      "text/plain": [
       "(709421, 8)"
      ]
     },
     "execution_count": 49,
     "metadata": {},
     "output_type": "execute_result"
    }
   ],
   "source": [
    "#df.shape"
   ]
  },
  {
   "cell_type": "markdown",
   "metadata": {},
   "source": [
    "# Creating False labels"
   ]
  },
  {
   "cell_type": "code",
   "execution_count": 185,
   "metadata": {
    "collapsed": false
   },
   "outputs": [],
   "source": [
    "# create dictionnary {pagename : [list of section names]}\n",
    "pagenames = df['pagename'].values.tolist()\n",
    "sections = df['section'].values.tolist()\n",
    "d = {}\n",
    "i=0\n",
    "for pagename in pagenames:\n",
    "    if pagename not in d.keys():\n",
    "        d[pagename]=[sections[i]]\n",
    "    else:\n",
    "        d[pagename].append(sections[i])    \n",
    "    i+=1\n",
    "    \n",
    "for k in d.keys():\n",
    "    d[k] = list(set(d[k]))"
   ]
  },
  {
   "cell_type": "code",
   "execution_count": 186,
   "metadata": {
    "collapsed": false
   },
   "outputs": [
    {
     "name": "stdout",
     "output_type": "stream",
     "text": [
      "length before 709421\n",
      "number of wikipedia pages with only 1 section : 84\n",
      "length after 708106\n"
     ]
    }
   ],
   "source": [
    "# remove wikipedia pages that have only 1 section (not possible to create fake labels)\n",
    "print('length before %d' %df.shape[0])\n",
    "uniques = []\n",
    "for k in d.keys():\n",
    "    if len(d[k])==1:\n",
    "        uniques.append(k)\n",
    "print('number of wikipedia pages with only 1 section : %d' %len(uniques))\n",
    "df = df[~df.pagename.isin(uniques)]\n",
    "print('length after %d' %df.shape[0])"
   ]
  },
  {
   "cell_type": "code",
   "execution_count": 187,
   "metadata": {
    "collapsed": false
   },
   "outputs": [
    {
     "name": "stdout",
     "output_type": "stream",
     "text": [
      "number of wikipedia pages :  36018\n",
      "number of wikipedia pages to keep 18009\n"
     ]
    }
   ],
   "source": [
    "# Keep a subset of wikipedia pages in order not to have a data set too big\n",
    "indexes = df.pagename_index.unique()\n",
    "random.shuffle(indexes)\n",
    "n = len(indexes)\n",
    "print('number of wikipedia pages : ', n)\n",
    "n= int(n/2)\n",
    "print('number of wikipedia pages to keep', n)\n",
    "keep_indexes = indexes[:n]"
   ]
  },
  {
   "cell_type": "code",
   "execution_count": 188,
   "metadata": {
    "collapsed": true
   },
   "outputs": [],
   "source": [
    "df = df[df.pagename_index.isin(keep_indexes)]"
   ]
  },
  {
   "cell_type": "code",
   "execution_count": 189,
   "metadata": {
    "collapsed": false
   },
   "outputs": [
    {
     "data": {
      "text/plain": [
       "(351440, 7)"
      ]
     },
     "execution_count": 189,
     "metadata": {},
     "output_type": "execute_result"
    }
   ],
   "source": [
    "df.shape"
   ]
  },
  {
   "cell_type": "code",
   "execution_count": 190,
   "metadata": {
    "collapsed": false
   },
   "outputs": [],
   "source": [
    "# keep some good pairs\n",
    "#num_true_pairs = 300\n",
    "#df_true_pairs = df[-300:]\n",
    "df_true_pairs = df.copy()\n",
    "\n",
    "# build wrong pairs (queries from df_true_pairs associated with wrong paragraphs)\n",
    "#num_false_pairs = 300\n",
    "# copy good queries\n",
    "df_false_pairs = df_true_pairs.copy()\n",
    "df_false_pairs.reset_index(drop=True,inplace=True)"
   ]
  },
  {
   "cell_type": "code",
   "execution_count": 191,
   "metadata": {
    "collapsed": false
   },
   "outputs": [
    {
     "data": {
      "text/html": [
       "<div>\n",
       "<table border=\"1\" class=\"dataframe\">\n",
       "  <thead>\n",
       "    <tr style=\"text-align: right;\">\n",
       "      <th></th>\n",
       "      <th>pagename</th>\n",
       "      <th>section</th>\n",
       "      <th>para_id</th>\n",
       "      <th>para_text</th>\n",
       "      <th>rel_label</th>\n",
       "      <th>query</th>\n",
       "      <th>pagename_index</th>\n",
       "    </tr>\n",
       "  </thead>\n",
       "  <tbody>\n",
       "    <tr>\n",
       "      <th>0</th>\n",
       "      <td>14th united states congress</td>\n",
       "      <td>committees</td>\n",
       "      <td>9530c09b4dae41d24278d9049cee4f467ec9c121</td>\n",
       "      <td>Lists of committees and their party leaders.</td>\n",
       "      <td>1</td>\n",
       "      <td>committees of 14th united states congress</td>\n",
       "      <td>3</td>\n",
       "    </tr>\n",
       "    <tr>\n",
       "      <th>1</th>\n",
       "      <td>16th united states congress</td>\n",
       "      <td>committees</td>\n",
       "      <td>9530c09b4dae41d24278d9049cee4f467ec9c121</td>\n",
       "      <td>Lists of committees and their party leaders.</td>\n",
       "      <td>1</td>\n",
       "      <td>committees of 16th united states congress</td>\n",
       "      <td>4</td>\n",
       "    </tr>\n",
       "    <tr>\n",
       "      <th>2</th>\n",
       "      <td>58th united states congress</td>\n",
       "      <td>committees</td>\n",
       "      <td>9530c09b4dae41d24278d9049cee4f467ec9c121</td>\n",
       "      <td>Lists of committees and their party leaders.</td>\n",
       "      <td>1</td>\n",
       "      <td>committees of 58th united states congress</td>\n",
       "      <td>7</td>\n",
       "    </tr>\n",
       "    <tr>\n",
       "      <th>3</th>\n",
       "      <td>14th united states congress</td>\n",
       "      <td>members</td>\n",
       "      <td>197ea49b7ff0cb049d6db34a4bdeefc3ab9be297</td>\n",
       "      <td>This list is arranged by chamber  then by stat...</td>\n",
       "      <td>1</td>\n",
       "      <td>members of 14th united states congress</td>\n",
       "      <td>3</td>\n",
       "    </tr>\n",
       "    <tr>\n",
       "      <th>4</th>\n",
       "      <td>16th united states congress</td>\n",
       "      <td>members</td>\n",
       "      <td>197ea49b7ff0cb049d6db34a4bdeefc3ab9be297</td>\n",
       "      <td>This list is arranged by chamber  then by stat...</td>\n",
       "      <td>1</td>\n",
       "      <td>members of 16th united states congress</td>\n",
       "      <td>4</td>\n",
       "    </tr>\n",
       "  </tbody>\n",
       "</table>\n",
       "</div>"
      ],
      "text/plain": [
       "                      pagename     section  \\\n",
       "0  14th united states congress  committees   \n",
       "1  16th united states congress  committees   \n",
       "2  58th united states congress  committees   \n",
       "3  14th united states congress     members   \n",
       "4  16th united states congress     members   \n",
       "\n",
       "                                    para_id  \\\n",
       "0  9530c09b4dae41d24278d9049cee4f467ec9c121   \n",
       "1  9530c09b4dae41d24278d9049cee4f467ec9c121   \n",
       "2  9530c09b4dae41d24278d9049cee4f467ec9c121   \n",
       "3  197ea49b7ff0cb049d6db34a4bdeefc3ab9be297   \n",
       "4  197ea49b7ff0cb049d6db34a4bdeefc3ab9be297   \n",
       "\n",
       "                                           para_text  rel_label  \\\n",
       "0       Lists of committees and their party leaders.          1   \n",
       "1       Lists of committees and their party leaders.          1   \n",
       "2       Lists of committees and their party leaders.          1   \n",
       "3  This list is arranged by chamber  then by stat...          1   \n",
       "4  This list is arranged by chamber  then by stat...          1   \n",
       "\n",
       "                                       query  pagename_index  \n",
       "0  committees of 14th united states congress               3  \n",
       "1  committees of 16th united states congress               4  \n",
       "2  committees of 58th united states congress               7  \n",
       "3     members of 14th united states congress               3  \n",
       "4     members of 16th united states congress               4  "
      ]
     },
     "execution_count": 191,
     "metadata": {},
     "output_type": "execute_result"
    }
   ],
   "source": [
    "df_false_pairs.head()"
   ]
  },
  {
   "cell_type": "code",
   "execution_count": 192,
   "metadata": {
    "collapsed": false
   },
   "outputs": [],
   "source": [
    "# change section name\n",
    "import random \n",
    "#f = lambda x: random.choice(list(filter(lambda a: a != x[1], d[x[0]])))\n",
    "#f = lambda x: random.choice(d[x[0]])\n",
    "\n",
    "def f(pagename, section): \n",
    "    # pick a random section name that belongs to the same pagename but is different from current section name\n",
    "    choices = [sec for sec in d[pagename] if sec != section]\n",
    "    r = random.choice(choices)\n",
    "    return r\n",
    "    \n",
    "df_false_pairs['new_section'] = df_false_pairs[['pagename', 'section']].apply(lambda row: f(row['pagename'], row['section']),axis=1)"
   ]
  },
  {
   "cell_type": "code",
   "execution_count": 195,
   "metadata": {
    "collapsed": false
   },
   "outputs": [
    {
     "data": {
      "text/html": [
       "<div>\n",
       "<table border=\"1\" class=\"dataframe\">\n",
       "  <thead>\n",
       "    <tr style=\"text-align: right;\">\n",
       "      <th></th>\n",
       "      <th>pagename</th>\n",
       "      <th>section</th>\n",
       "      <th>para_id</th>\n",
       "      <th>para_text</th>\n",
       "      <th>rel_label</th>\n",
       "      <th>query</th>\n",
       "      <th>pagename_index</th>\n",
       "      <th>new_section</th>\n",
       "    </tr>\n",
       "  </thead>\n",
       "  <tbody>\n",
       "    <tr>\n",
       "      <th>0</th>\n",
       "      <td>14th united states congress</td>\n",
       "      <td>committees</td>\n",
       "      <td>9530c09b4dae41d24278d9049cee4f467ec9c121</td>\n",
       "      <td>Lists of committees and their party leaders.</td>\n",
       "      <td>1</td>\n",
       "      <td>committees of 14th united states congress</td>\n",
       "      <td>3</td>\n",
       "      <td>members</td>\n",
       "    </tr>\n",
       "    <tr>\n",
       "      <th>1</th>\n",
       "      <td>16th united states congress</td>\n",
       "      <td>committees</td>\n",
       "      <td>9530c09b4dae41d24278d9049cee4f467ec9c121</td>\n",
       "      <td>Lists of committees and their party leaders.</td>\n",
       "      <td>1</td>\n",
       "      <td>committees of 16th united states congress</td>\n",
       "      <td>4</td>\n",
       "      <td>party summary</td>\n",
       "    </tr>\n",
       "    <tr>\n",
       "      <th>2</th>\n",
       "      <td>58th united states congress</td>\n",
       "      <td>committees</td>\n",
       "      <td>9530c09b4dae41d24278d9049cee4f467ec9c121</td>\n",
       "      <td>Lists of committees and their party leaders.</td>\n",
       "      <td>1</td>\n",
       "      <td>committees of 58th united states congress</td>\n",
       "      <td>7</td>\n",
       "      <td>party summary</td>\n",
       "    </tr>\n",
       "    <tr>\n",
       "      <th>3</th>\n",
       "      <td>14th united states congress</td>\n",
       "      <td>members</td>\n",
       "      <td>197ea49b7ff0cb049d6db34a4bdeefc3ab9be297</td>\n",
       "      <td>This list is arranged by chamber  then by stat...</td>\n",
       "      <td>1</td>\n",
       "      <td>members of 14th united states congress</td>\n",
       "      <td>3</td>\n",
       "      <td>changes in membership</td>\n",
       "    </tr>\n",
       "    <tr>\n",
       "      <th>4</th>\n",
       "      <td>16th united states congress</td>\n",
       "      <td>members</td>\n",
       "      <td>197ea49b7ff0cb049d6db34a4bdeefc3ab9be297</td>\n",
       "      <td>This list is arranged by chamber  then by stat...</td>\n",
       "      <td>1</td>\n",
       "      <td>members of 16th united states congress</td>\n",
       "      <td>4</td>\n",
       "      <td>party summary</td>\n",
       "    </tr>\n",
       "  </tbody>\n",
       "</table>\n",
       "</div>"
      ],
      "text/plain": [
       "                      pagename     section  \\\n",
       "0  14th united states congress  committees   \n",
       "1  16th united states congress  committees   \n",
       "2  58th united states congress  committees   \n",
       "3  14th united states congress     members   \n",
       "4  16th united states congress     members   \n",
       "\n",
       "                                    para_id  \\\n",
       "0  9530c09b4dae41d24278d9049cee4f467ec9c121   \n",
       "1  9530c09b4dae41d24278d9049cee4f467ec9c121   \n",
       "2  9530c09b4dae41d24278d9049cee4f467ec9c121   \n",
       "3  197ea49b7ff0cb049d6db34a4bdeefc3ab9be297   \n",
       "4  197ea49b7ff0cb049d6db34a4bdeefc3ab9be297   \n",
       "\n",
       "                                           para_text  rel_label  \\\n",
       "0       Lists of committees and their party leaders.          1   \n",
       "1       Lists of committees and their party leaders.          1   \n",
       "2       Lists of committees and their party leaders.          1   \n",
       "3  This list is arranged by chamber  then by stat...          1   \n",
       "4  This list is arranged by chamber  then by stat...          1   \n",
       "\n",
       "                                       query  pagename_index  \\\n",
       "0  committees of 14th united states congress               3   \n",
       "1  committees of 16th united states congress               4   \n",
       "2  committees of 58th united states congress               7   \n",
       "3     members of 14th united states congress               3   \n",
       "4     members of 16th united states congress               4   \n",
       "\n",
       "             new_section  \n",
       "0                members  \n",
       "1          party summary  \n",
       "2          party summary  \n",
       "3  changes in membership  \n",
       "4          party summary  "
      ]
     },
     "execution_count": 195,
     "metadata": {},
     "output_type": "execute_result"
    }
   ],
   "source": [
    "df_false_pairs.head()"
   ]
  },
  {
   "cell_type": "code",
   "execution_count": 196,
   "metadata": {
    "collapsed": false
   },
   "outputs": [],
   "source": [
    "# update the query\n",
    "df_false_pairs['query'] = df_false_pairs['new_section'] + ' of ' + df_false_pairs['pagename']\n",
    "\n",
    "# change labels to 1\n",
    "df_false_pairs['rel_label']=0"
   ]
  },
  {
   "cell_type": "code",
   "execution_count": 197,
   "metadata": {
    "collapsed": false
   },
   "outputs": [
    {
     "data": {
      "text/html": [
       "<div>\n",
       "<table border=\"1\" class=\"dataframe\">\n",
       "  <thead>\n",
       "    <tr style=\"text-align: right;\">\n",
       "      <th></th>\n",
       "      <th>pagename</th>\n",
       "      <th>section</th>\n",
       "      <th>para_id</th>\n",
       "      <th>para_text</th>\n",
       "      <th>rel_label</th>\n",
       "      <th>query</th>\n",
       "      <th>pagename_index</th>\n",
       "      <th>new_section</th>\n",
       "    </tr>\n",
       "  </thead>\n",
       "  <tbody>\n",
       "    <tr>\n",
       "      <th>0</th>\n",
       "      <td>14th united states congress</td>\n",
       "      <td>committees</td>\n",
       "      <td>9530c09b4dae41d24278d9049cee4f467ec9c121</td>\n",
       "      <td>Lists of committees and their party leaders.</td>\n",
       "      <td>0</td>\n",
       "      <td>members of 14th united states congress</td>\n",
       "      <td>3</td>\n",
       "      <td>members</td>\n",
       "    </tr>\n",
       "    <tr>\n",
       "      <th>1</th>\n",
       "      <td>16th united states congress</td>\n",
       "      <td>committees</td>\n",
       "      <td>9530c09b4dae41d24278d9049cee4f467ec9c121</td>\n",
       "      <td>Lists of committees and their party leaders.</td>\n",
       "      <td>0</td>\n",
       "      <td>party summary of 16th united states congress</td>\n",
       "      <td>4</td>\n",
       "      <td>party summary</td>\n",
       "    </tr>\n",
       "    <tr>\n",
       "      <th>2</th>\n",
       "      <td>58th united states congress</td>\n",
       "      <td>committees</td>\n",
       "      <td>9530c09b4dae41d24278d9049cee4f467ec9c121</td>\n",
       "      <td>Lists of committees and their party leaders.</td>\n",
       "      <td>0</td>\n",
       "      <td>party summary of 58th united states congress</td>\n",
       "      <td>7</td>\n",
       "      <td>party summary</td>\n",
       "    </tr>\n",
       "    <tr>\n",
       "      <th>3</th>\n",
       "      <td>14th united states congress</td>\n",
       "      <td>members</td>\n",
       "      <td>197ea49b7ff0cb049d6db34a4bdeefc3ab9be297</td>\n",
       "      <td>This list is arranged by chamber  then by stat...</td>\n",
       "      <td>0</td>\n",
       "      <td>changes in membership of 14th united states co...</td>\n",
       "      <td>3</td>\n",
       "      <td>changes in membership</td>\n",
       "    </tr>\n",
       "    <tr>\n",
       "      <th>4</th>\n",
       "      <td>16th united states congress</td>\n",
       "      <td>members</td>\n",
       "      <td>197ea49b7ff0cb049d6db34a4bdeefc3ab9be297</td>\n",
       "      <td>This list is arranged by chamber  then by stat...</td>\n",
       "      <td>0</td>\n",
       "      <td>party summary of 16th united states congress</td>\n",
       "      <td>4</td>\n",
       "      <td>party summary</td>\n",
       "    </tr>\n",
       "  </tbody>\n",
       "</table>\n",
       "</div>"
      ],
      "text/plain": [
       "                      pagename     section  \\\n",
       "0  14th united states congress  committees   \n",
       "1  16th united states congress  committees   \n",
       "2  58th united states congress  committees   \n",
       "3  14th united states congress     members   \n",
       "4  16th united states congress     members   \n",
       "\n",
       "                                    para_id  \\\n",
       "0  9530c09b4dae41d24278d9049cee4f467ec9c121   \n",
       "1  9530c09b4dae41d24278d9049cee4f467ec9c121   \n",
       "2  9530c09b4dae41d24278d9049cee4f467ec9c121   \n",
       "3  197ea49b7ff0cb049d6db34a4bdeefc3ab9be297   \n",
       "4  197ea49b7ff0cb049d6db34a4bdeefc3ab9be297   \n",
       "\n",
       "                                           para_text  rel_label  \\\n",
       "0       Lists of committees and their party leaders.          0   \n",
       "1       Lists of committees and their party leaders.          0   \n",
       "2       Lists of committees and their party leaders.          0   \n",
       "3  This list is arranged by chamber  then by stat...          0   \n",
       "4  This list is arranged by chamber  then by stat...          0   \n",
       "\n",
       "                                               query  pagename_index  \\\n",
       "0             members of 14th united states congress               3   \n",
       "1       party summary of 16th united states congress               4   \n",
       "2       party summary of 58th united states congress               7   \n",
       "3  changes in membership of 14th united states co...               3   \n",
       "4       party summary of 16th united states congress               4   \n",
       "\n",
       "             new_section  \n",
       "0                members  \n",
       "1          party summary  \n",
       "2          party summary  \n",
       "3  changes in membership  \n",
       "4          party summary  "
      ]
     },
     "execution_count": 197,
     "metadata": {},
     "output_type": "execute_result"
    }
   ],
   "source": [
    "df_false_pairs.head()"
   ]
  },
  {
   "cell_type": "code",
   "execution_count": 198,
   "metadata": {
    "collapsed": false
   },
   "outputs": [],
   "source": [
    "df_false_pairs = df_false_pairs.drop('new_section', 1)"
   ]
  },
  {
   "cell_type": "code",
   "execution_count": 199,
   "metadata": {
    "collapsed": false
   },
   "outputs": [
    {
     "name": "stdout",
     "output_type": "stream",
     "text": [
      "(351440, 7)\n",
      "(351440, 7)\n"
     ]
    }
   ],
   "source": [
    "print(df_true_pairs.shape)\n",
    "print(df_false_pairs.shape)"
   ]
  },
  {
   "cell_type": "code",
   "execution_count": 200,
   "metadata": {
    "collapsed": true
   },
   "outputs": [],
   "source": [
    "# create final dataset by merge both true and wrong pairs\n",
    "df_final = df_true_pairs.append(df_false_pairs)\n",
    "df_final.reset_index(drop=True,inplace=True)\n",
    "df_final = df_final.reindex(np.random.permutation(df_final.index))\n",
    "df_final.reset_index(drop=True,inplace=True)"
   ]
  },
  {
   "cell_type": "code",
   "execution_count": 201,
   "metadata": {
    "collapsed": false
   },
   "outputs": [
    {
     "data": {
      "text/plain": [
       "(702880, 7)"
      ]
     },
     "execution_count": 201,
     "metadata": {},
     "output_type": "execute_result"
    }
   ],
   "source": [
    "df_final.shape"
   ]
  },
  {
   "cell_type": "code",
   "execution_count": 202,
   "metadata": {
    "collapsed": false
   },
   "outputs": [
    {
     "data": {
      "text/html": [
       "<div>\n",
       "<table border=\"1\" class=\"dataframe\">\n",
       "  <thead>\n",
       "    <tr style=\"text-align: right;\">\n",
       "      <th></th>\n",
       "      <th>pagename</th>\n",
       "      <th>section</th>\n",
       "      <th>para_id</th>\n",
       "      <th>para_text</th>\n",
       "      <th>rel_label</th>\n",
       "      <th>query</th>\n",
       "      <th>pagename_index</th>\n",
       "    </tr>\n",
       "  </thead>\n",
       "  <tbody>\n",
       "    <tr>\n",
       "      <th>0</th>\n",
       "      <td>academi</td>\n",
       "      <td>role in the iraq war</td>\n",
       "      <td>44920381f7880d9026644910f734aacdf68fb77b</td>\n",
       "      <td>In June 2011  a federal judge dismissed Erik P...</td>\n",
       "      <td>1</td>\n",
       "      <td>role in the iraq war of academi</td>\n",
       "      <td>3002</td>\n",
       "    </tr>\n",
       "    <tr>\n",
       "      <th>1</th>\n",
       "      <td>wide-bandgap semiconductor</td>\n",
       "      <td>materials</td>\n",
       "      <td>3abc958463d33ea14cd2ec5e79d4899e9496df39</td>\n",
       "      <td>Aluminum nitride  (AlN) can be used to fabrica...</td>\n",
       "      <td>1</td>\n",
       "      <td>materials of wide-bandgap semiconductor</td>\n",
       "      <td>35388</td>\n",
       "    </tr>\n",
       "    <tr>\n",
       "      <th>2</th>\n",
       "      <td>brexit</td>\n",
       "      <td>%22article 50%22 and the procedure for leaving...</td>\n",
       "      <td>d4ecf5f21477b5c5586149c4efd4cb7fe8377333</td>\n",
       "      <td>Various EU leaders have said that they will no...</td>\n",
       "      <td>0</td>\n",
       "      <td>the term %22brexit%22 of brexit</td>\n",
       "      <td>7561</td>\n",
       "    </tr>\n",
       "    <tr>\n",
       "      <th>3</th>\n",
       "      <td>mandaue city science high school</td>\n",
       "      <td>history</td>\n",
       "      <td>f8a178b8f18bd8d97c67f0496f704f8697ae0b74</td>\n",
       "      <td>The first batch of students were mostly honor ...</td>\n",
       "      <td>0</td>\n",
       "      <td>admission of mandaue city science high school</td>\n",
       "      <td>21558</td>\n",
       "    </tr>\n",
       "    <tr>\n",
       "      <th>4</th>\n",
       "      <td>palador pictures</td>\n",
       "      <td>acquired films</td>\n",
       "      <td>ea9624c488fc93bfaea823f0dae1bc59470f1360</td>\n",
       "      <td>The company has acquired these films from dif...</td>\n",
       "      <td>0</td>\n",
       "      <td>naming of palador pictures</td>\n",
       "      <td>25363</td>\n",
       "    </tr>\n",
       "  </tbody>\n",
       "</table>\n",
       "</div>"
      ],
      "text/plain": [
       "                           pagename  \\\n",
       "0                           academi   \n",
       "1        wide-bandgap semiconductor   \n",
       "2                            brexit   \n",
       "3  mandaue city science high school   \n",
       "4                  palador pictures   \n",
       "\n",
       "                                             section  \\\n",
       "0                               role in the iraq war   \n",
       "1                                          materials   \n",
       "2  %22article 50%22 and the procedure for leaving...   \n",
       "3                                            history   \n",
       "4                                     acquired films   \n",
       "\n",
       "                                    para_id  \\\n",
       "0  44920381f7880d9026644910f734aacdf68fb77b   \n",
       "1  3abc958463d33ea14cd2ec5e79d4899e9496df39   \n",
       "2  d4ecf5f21477b5c5586149c4efd4cb7fe8377333   \n",
       "3  f8a178b8f18bd8d97c67f0496f704f8697ae0b74   \n",
       "4  ea9624c488fc93bfaea823f0dae1bc59470f1360   \n",
       "\n",
       "                                           para_text  rel_label  \\\n",
       "0  In June 2011  a federal judge dismissed Erik P...          1   \n",
       "1  Aluminum nitride  (AlN) can be used to fabrica...          1   \n",
       "2  Various EU leaders have said that they will no...          0   \n",
       "3  The first batch of students were mostly honor ...          0   \n",
       "4   The company has acquired these films from dif...          0   \n",
       "\n",
       "                                           query  pagename_index  \n",
       "0                role in the iraq war of academi            3002  \n",
       "1        materials of wide-bandgap semiconductor           35388  \n",
       "2                the term %22brexit%22 of brexit            7561  \n",
       "3  admission of mandaue city science high school           21558  \n",
       "4                     naming of palador pictures           25363  "
      ]
     },
     "execution_count": 202,
     "metadata": {},
     "output_type": "execute_result"
    }
   ],
   "source": [
    "df_final.head()"
   ]
  },
  {
   "cell_type": "code",
   "execution_count": 203,
   "metadata": {
    "collapsed": false
   },
   "outputs": [
    {
     "data": {
      "text/plain": [
       "(351440, 7)"
      ]
     },
     "execution_count": 203,
     "metadata": {},
     "output_type": "execute_result"
    }
   ],
   "source": [
    "df_final[df_final.rel_label==1].shape"
   ]
  },
  {
   "cell_type": "code",
   "execution_count": 204,
   "metadata": {
    "collapsed": true
   },
   "outputs": [],
   "source": [
    "labels = df_final['rel_label'].values\n",
    "\n",
    "y=[]\n",
    "for i in range(len(labels)):\n",
    "    if labels[i]==1:\n",
    "        y.append([0, 1])\n",
    "    elif labels[i]==0:\n",
    "        y.append([1, 0])\n",
    "    else:\n",
    "        print('label value not in [0,1]') "
   ]
  },
  {
   "cell_type": "code",
   "execution_count": 205,
   "metadata": {
    "collapsed": true
   },
   "outputs": [],
   "source": [
    "y_array = np.array(y)"
   ]
  },
  {
   "cell_type": "code",
   "execution_count": null,
   "metadata": {
    "collapsed": true
   },
   "outputs": [],
   "source": []
  },
  {
   "cell_type": "code",
   "execution_count": 207,
   "metadata": {
    "collapsed": true
   },
   "outputs": [],
   "source": [
    "df_final['query'].values.dump(\"../data/balanced_full_fold0_600K_query_text.csv\")\n",
    "df_final['para_text'].values.dump(\"../data/balanced_full_fold0_600K_paragraph_text.csv\")\n",
    "y_array.dump(\"../data/balanced_full_fold0_600K_labels.csv\")"
   ]
  },
  {
   "cell_type": "code",
   "execution_count": null,
   "metadata": {
    "collapsed": true
   },
   "outputs": [],
   "source": []
  },
  {
   "cell_type": "code",
   "execution_count": null,
   "metadata": {
    "collapsed": true
   },
   "outputs": [],
   "source": []
  },
  {
   "cell_type": "code",
   "execution_count": null,
   "metadata": {
    "collapsed": true
   },
   "outputs": [],
   "source": []
  },
  {
   "cell_type": "code",
   "execution_count": null,
   "metadata": {
    "collapsed": true
   },
   "outputs": [],
   "source": []
  },
  {
   "cell_type": "code",
   "execution_count": null,
   "metadata": {
    "collapsed": true
   },
   "outputs": [],
   "source": []
  },
  {
   "cell_type": "code",
   "execution_count": null,
   "metadata": {
    "collapsed": true
   },
   "outputs": [],
   "source": []
  },
  {
   "cell_type": "code",
   "execution_count": 41,
   "metadata": {
    "collapsed": false
   },
   "outputs": [],
   "source": [
    "# Save data related to some wikipedia pages to use for testing the model\n",
    "df_test = df_final[df_final.pagename_index.isin(range(10))]\n",
    "df_test.to_csv('../data/short_fold0_600K_test_df.csv')"
   ]
  },
  {
   "cell_type": "code",
   "execution_count": 82,
   "metadata": {
    "collapsed": true
   },
   "outputs": [],
   "source": [
    "df[:1000]['query'].values.dump(\"../data/short_fold0_600K_query_text.csv\")\n",
    "df[:1000]['para_text'].values.dump(\"../data/short_fold0_600K_paragraph_text.csv\")\n",
    "y_array[:1000].dump(\"../data/short_fold0_600K_labels.csv\")\n",
    "df['query'].values.dump(\"../data/fold0_600K_query_text.csv\")\n",
    "df['para_text'].values.dump(\"../data/fold0_600K_paragraph_text.csv\")\n",
    "y_array.dump(\"../data/fold0_600K_labels.csv\")"
   ]
  },
  {
   "cell_type": "code",
   "execution_count": null,
   "metadata": {
    "collapsed": true
   },
   "outputs": [],
   "source": []
  },
  {
   "cell_type": "code",
   "execution_count": 131,
   "metadata": {
    "collapsed": true
   },
   "outputs": [],
   "source": [
    "'''# Creating short data set\n",
    "df_final[:1000]['query_CBOW'].values.dump(\"../data/short_fold0_600K_query_CBOW.csv\")\n",
    "df_final[:1000]['paragraph_CBOW'].values.dump(\"../data/short_fold0_600K_paragraph_CBOW.csv\")\n",
    "df_final[:1000]['query'].values.dump(\"../data/short_fold0_600K_query.csv\")\n",
    "df_final[:1000]['para_text'].values.dump(\"../data/short_fold0_600K_paragraph.csv\")\n",
    "y_array[:1000].dump(\"../data/short_fold0_600K_labels.csv\")'''"
   ]
  },
  {
   "cell_type": "code",
   "execution_count": 85,
   "metadata": {
    "collapsed": true
   },
   "outputs": [],
   "source": [
    "# Loading data\n",
    "#q = np.array(np.load(\"../data/short_fold0_600K_query_text.csv\").tolist())"
   ]
  },
  {
   "cell_type": "code",
   "execution_count": null,
   "metadata": {
    "collapsed": true
   },
   "outputs": [],
   "source": [
    "# Re-loading data\n",
    "q_text = np.array(np.load(\"../data/fold0_600K_query_text.csv\").tolist())\n",
    "p_text = np.array(np.load(\"../data/fold0_600K_paragraph_text.csv\").tolist())\n",
    "y = np.array(np.load(\"../data/fold0_600K_labels.csv\").tolist())"
   ]
  },
  {
   "cell_type": "code",
   "execution_count": null,
   "metadata": {
    "collapsed": true
   },
   "outputs": [],
   "source": [
    "df_q = pd.DataFrame(q_text[:50000])\n",
    "del q_text\n",
    "df_q[0].values.dump(\"../data/medium_fold0_600K_query_text.csv\")\n",
    "#q_text[:50000].dump(\"../data/medium_fold0_600K_query_text.csv\")"
   ]
  },
  {
   "cell_type": "code",
   "execution_count": null,
   "metadata": {
    "collapsed": true
   },
   "outputs": [],
   "source": [
    "df_p = pd.DataFrame(p_text[:50000])\n",
    "del p_text\n",
    "df_p[0].values.dump(\"../data/medium_fold0_600K_paragraph_text.csv\")\n",
    "#p_text[:50000].dump(\"../data/medium_fold0_600K_paragraph_text.csv\")"
   ]
  },
  {
   "cell_type": "code",
   "execution_count": null,
   "metadata": {
    "collapsed": true
   },
   "outputs": [],
   "source": [
    "y[:50000].dump(\"../data/medium_fold0_600K_labels.csv\")"
   ]
  },
  {
   "cell_type": "code",
   "execution_count": null,
   "metadata": {
    "collapsed": true
   },
   "outputs": [],
   "source": [
    "y = np.array(np.load(\"../data/medium_fold0_600K_labels.csv\").tolist())"
   ]
  },
  {
   "cell_type": "code",
   "execution_count": null,
   "metadata": {
    "collapsed": true
   },
   "outputs": [],
   "source": [
    "y.shape"
   ]
  },
  {
   "cell_type": "code",
   "execution_count": 42,
   "metadata": {
    "collapsed": true
   },
   "outputs": [],
   "source": [
    "y = np.array(np.load(\"../data/short_fold0_600K_labels.csv\").tolist())"
   ]
  },
  {
   "cell_type": "code",
   "execution_count": 48,
   "metadata": {
    "collapsed": false
   },
   "outputs": [],
   "source": [
    "pos = sum([np.argmax(x) for x in y])/1000"
   ]
  },
  {
   "cell_type": "code",
   "execution_count": 49,
   "metadata": {
    "collapsed": false
   },
   "outputs": [
    {
     "data": {
      "text/plain": [
       "0.311"
      ]
     },
     "execution_count": 49,
     "metadata": {},
     "output_type": "execute_result"
    }
   ],
   "source": [
    "pos"
   ]
  },
  {
   "cell_type": "code",
   "execution_count": 50,
   "metadata": {
    "collapsed": false
   },
   "outputs": [
    {
     "data": {
      "text/plain": [
       "0.68900000000000006"
      ]
     },
     "execution_count": 50,
     "metadata": {},
     "output_type": "execute_result"
    }
   ],
   "source": [
    "1-pos"
   ]
  },
  {
   "cell_type": "code",
   "execution_count": 66,
   "metadata": {
    "collapsed": true
   },
   "outputs": [],
   "source": [
    "y = np.array(np.load(\"../data/medium_fold0_600K_labels.csv\").tolist())"
   ]
  },
  {
   "cell_type": "code",
   "execution_count": 67,
   "metadata": {
    "collapsed": false
   },
   "outputs": [
    {
     "data": {
      "text/plain": [
       "(50000, 2)"
      ]
     },
     "execution_count": 67,
     "metadata": {},
     "output_type": "execute_result"
    }
   ],
   "source": [
    "y.shape"
   ]
  },
  {
   "cell_type": "code",
   "execution_count": 70,
   "metadata": {
    "collapsed": false
   },
   "outputs": [],
   "source": [
    "count = 0\n",
    "for i in range(y.shape[0]):\n",
    "    if y[i][0]==1:\n",
    "        count+=1"
   ]
  },
  {
   "cell_type": "code",
   "execution_count": 71,
   "metadata": {
    "collapsed": false
   },
   "outputs": [
    {
     "data": {
      "text/plain": [
       "33307"
      ]
     },
     "execution_count": 71,
     "metadata": {},
     "output_type": "execute_result"
    }
   ],
   "source": [
    "count"
   ]
  },
  {
   "cell_type": "code",
   "execution_count": null,
   "metadata": {
    "collapsed": true
   },
   "outputs": [],
   "source": []
  },
  {
   "cell_type": "code",
   "execution_count": null,
   "metadata": {
    "collapsed": true
   },
   "outputs": [],
   "source": []
  },
  {
   "cell_type": "code",
   "execution_count": null,
   "metadata": {
    "collapsed": true
   },
   "outputs": [],
   "source": []
  }
 ],
 "metadata": {
  "kernelspec": {
   "display_name": "Python 3",
   "language": "python",
   "name": "python3"
  },
  "language_info": {
   "codemirror_mode": {
    "name": "ipython",
    "version": 3
   },
   "file_extension": ".py",
   "mimetype": "text/x-python",
   "name": "python",
   "nbconvert_exporter": "python",
   "pygments_lexer": "ipython3",
   "version": "3.6.0"
  }
 },
 "nbformat": 4,
 "nbformat_minor": 0
}
